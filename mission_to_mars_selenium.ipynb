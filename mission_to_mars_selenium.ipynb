{
 "cells": [
  {
   "cell_type": "code",
   "execution_count": 1,
   "metadata": {},
   "outputs": [],
   "source": [
    "#Import dependencies\n",
    "import time\n",
    "from selenium import webdriver\n",
    "from bs4 import BeautifulSoup  as bs "
   ]
  },
  {
   "cell_type": "code",
   "execution_count": 2,
   "metadata": {},
   "outputs": [],
   "source": [
    "chromedriver = '/Users/tseringsherpa/Desktop/chromedriver'\n",
    "driver = webdriver.Chrome(chromedriver)"
   ]
  },
  {
   "cell_type": "code",
   "execution_count": 3,
   "metadata": {},
   "outputs": [],
   "source": [
    "def get_news():\n",
    "    driver.get('https://mars.nasa.gov/news/?page=0&per_page=40&order=publish_date+desc%2Ccreated_at+desc&search=&category=19%2C165%2C184%2C204&blank_scope=Latest')\n",
    "    html_string = driver.page_source\n",
    "    soup = bs(html_string, 'html.parser')\n",
    "    \n",
    "    div = soup.find('div', attrs={'class': 'list_text'})\n",
    "    try:\n",
    "        title=div.findNext('div', {'class': 'content_title'}).text            \n",
    "        description=div.findNext('div', {'class': 'article_teaser_body'}).text\n",
    "    except:\n",
    "        pass\n",
    "    return {\"news_title\":title,\"news_p\":description}"
   ]
  },
  {
   "cell_type": "code",
   "execution_count": 4,
   "metadata": {},
   "outputs": [],
   "source": [
    "def get_featured_image():\n",
    "    driver.get('https://www.jpl.nasa.gov/spaceimages/?search=&category=Mars')\n",
    "    fullImagebtn = driver.find_element_by_id('full_image')\n",
    "    fullImagebtn.click()\n",
    "    time.sleep(2)\n",
    "\n",
    "    html_string = driver.page_source\n",
    "    soup = bs(html_string, 'html.parser')\n",
    "    try:\n",
    "        anchor = soup.find('a','ready')\n",
    "        if anchor.img:\n",
    "            image_url = anchor.img['src']\n",
    "        featured_image_url = \"https://www.jpl.nasa.gov\" + image_url      \n",
    "    except:\n",
    "        pass\n",
    "    return featured_image_url"
   ]
  },
  {
   "cell_type": "code",
   "execution_count": 5,
   "metadata": {},
   "outputs": [],
   "source": [
    "def get_latest_weather():\n",
    "    driver.get('https://twitter.com/marswxreport?lang=en')\n",
    "    html_string = driver.page_source\n",
    "    soup = bs(html_string, 'lxml')\n",
    "    latest_weather = soup.find('div','js-tweet-text-container').text.strip()\n",
    "    return latest_weather "
   ]
  },
  {
   "cell_type": "code",
   "execution_count": 6,
   "metadata": {},
   "outputs": [],
   "source": [
    "def get_facts():\n",
    "    driver.get('https://space-facts.com/mars/')\n",
    "    html_string = driver.page_source\n",
    "    soup = bs(html_string, 'lxml')\n",
    "\n",
    "    keys =[]\n",
    "    values=[]\n",
    "    table = soup.find('table','tablepress tablepress-id-mars')\n",
    "    row_marker = 0\n",
    "    for row in table.find_all('tr'):\n",
    "        columns = row.find_all('td')\n",
    "        keys.append(columns[0].text)\n",
    "        values.append(columns[1].text)\n",
    "    facts = dict(zip(keys, values))\n",
    "    return facts"
   ]
  },
  {
   "cell_type": "code",
   "execution_count": 7,
   "metadata": {},
   "outputs": [],
   "source": [
    "def get_individual_hemisphere(name):\n",
    "    driver.get('https://astrogeology.usgs.gov/search/results?q=hemisphere+enhanced&k1=target&v1=Mars')\n",
    "\n",
    "    \n",
    "    if name == 'Cerberus Hemisphere Enhanced':\n",
    "        getFullImagebtn = driver.find_element_by_xpath(\"//*[text()='Cerberus Hemisphere Enhanced']\")\n",
    "    elif name == 'Schiaparelli Hemisphere Enhanced':\n",
    "         getFullImagebtn = driver.find_element_by_xpath(\"//*[text()='Schiaparelli Hemisphere Enhanced']\")\n",
    "    elif name == 'Syrtis Major Hemisphere Enhanced':\n",
    "         getFullImagebtn = driver.find_element_by_xpath(\"//*[text()='Syrtis Major Hemisphere Enhanced']\")\n",
    "    elif name == 'Valles Marineris Hemisphere Enhanced':\n",
    "         getFullImagebtn = driver.find_element_by_xpath(\"//*[text()='Valles Marineris Hemisphere Enhanced']\")\n",
    "    else:\n",
    "        pass\n",
    "    \n",
    "    getFullImagebtn.click()\n",
    "\n",
    "    html_string = driver.page_source\n",
    "    soup = bs(html_string, 'lxml')\n",
    "\n",
    "    image_url=\"https://astrogeology.usgs.gov\" + str (soup.find('img','wide-image')['src'])\n",
    "    return({\"title\": name, \"img_url\": image_url})\n",
    "\n",
    "def get_hemispheres():\n",
    "    hemisphere_image_urls=[]\n",
    "    h1 = get_individual_hemisphere('Cerberus Hemisphere Enhanced')\n",
    "    hemisphere_image_urls.append(h1)\n",
    "    h2 = get_individual_hemisphere('Schiaparelli Hemisphere Enhanced')\n",
    "    hemisphere_image_urls.append(h2)\n",
    "    h3 = get_individual_hemisphere('Syrtis Major Hemisphere Enhanced')\n",
    "    hemisphere_image_urls.append(h3)\n",
    "    h4 = get_individual_hemisphere('Valles Marineris Hemisphere Enhanced')\n",
    "    hemisphere_image_urls.append(h4)\n",
    "    return hemisphere_image_urls"
   ]
  },
  {
   "cell_type": "code",
   "execution_count": 8,
   "metadata": {},
   "outputs": [],
   "source": [
    "def scrape():\n",
    "    output ={}\n",
    "    news=get_news()\n",
    "    featured_image_url= get_featured_image()\n",
    "    latest_weather=get_latest_weather()\n",
    "    facts =get_facts()\n",
    "    hemisphere_image_urls =get_hemispheres()\n",
    "    output ={ \"news\":news,\"featured_image_url\":featured_image_url,\"weather\":latest_weather,\"facts\":facts, \"hemisphere_image_urls\":hemisphere_image_urls\n",
    "    }\n",
    "    return output  "
   ]
  },
  {
   "cell_type": "code",
   "execution_count": 9,
   "metadata": {},
   "outputs": [
    {
     "name": "stdout",
     "output_type": "stream",
     "text": [
      "{\n",
      "    \"news\": {\n",
      "        \"news_title\": \"NASA's First Deep-Space CubeSats Say: 'Polo!'\",\n",
      "        \"news_p\": \"MarCO is a pair of tiny spacecraft that launched with NASA's InSight lander today.\"\n",
      "    },\n",
      "    \"featured_image_url\": \"https://www.jpl.nasa.gov/spaceimages/images/mediumsize/PIA19046_ip.jpg\",\n",
      "    \"weather\": \"Sol 2043 (May 06, 2018), Sunny, high -14C/6F, low -71C/-95F, pressure at 7.36 hPa, daylight 05:22-17:20\",\n",
      "    \"facts\": {\n",
      "        \"Equatorial Diameter:\": \"6,792 km\\n\",\n",
      "        \"Polar Diameter:\": \"6,752 km\\n\",\n",
      "        \"Mass:\": \"6.42 x 10^23 kg (10.7% Earth)\",\n",
      "        \"Moons:\": \"2 (Phobos & Deimos)\",\n",
      "        \"Orbit Distance:\": \"227,943,824 km (1.52 AU)\",\n",
      "        \"Orbit Period:\": \"687 days (1.9 years)\\n\",\n",
      "        \"Surface Temperature: \": \"-153 to 20 \\u00b0C\",\n",
      "        \"First Record:\": \"2nd millennium BC\",\n",
      "        \"Recorded By:\": \"Egyptian astronomers\"\n",
      "    },\n",
      "    \"hemisphere_image_urls\": [\n",
      "        {\n",
      "            \"title\": \"Cerberus Hemisphere Enhanced\",\n",
      "            \"img_url\": \"https://astrogeology.usgs.gov/cache/images/cfa62af2557222a02478f1fcd781d445_cerberus_enhanced.tif_full.jpg\"\n",
      "        },\n",
      "        {\n",
      "            \"title\": \"Schiaparelli Hemisphere Enhanced\",\n",
      "            \"img_url\": \"https://astrogeology.usgs.gov/cache/images/3cdd1cbf5e0813bba925c9030d13b62e_schiaparelli_enhanced.tif_full.jpg\"\n",
      "        },\n",
      "        {\n",
      "            \"title\": \"Syrtis Major Hemisphere Enhanced\",\n",
      "            \"img_url\": \"https://astrogeology.usgs.gov/cache/images/ae209b4e408bb6c3e67b6af38168cf28_syrtis_major_enhanced.tif_full.jpg\"\n",
      "        },\n",
      "        {\n",
      "            \"title\": \"Valles Marineris Hemisphere Enhanced\",\n",
      "            \"img_url\": \"https://astrogeology.usgs.gov/cache/images/7cf2da4bf549ed01c17f206327be4db7_valles_marineris_enhanced.tif_full.jpg\"\n",
      "        }\n",
      "    ]\n",
      "}\n"
     ]
    }
   ],
   "source": [
    "output = scrape()\n",
    "import json\n",
    "print(json.dumps(output,indent=4))"
   ]
  },
  {
   "cell_type": "code",
   "execution_count": null,
   "metadata": {},
   "outputs": [],
   "source": []
  }
 ],
 "metadata": {
  "kernelspec": {
   "display_name": "Python 3",
   "language": "python",
   "name": "python3"
  },
  "language_info": {
   "codemirror_mode": {
    "name": "ipython",
    "version": 3
   },
   "file_extension": ".py",
   "mimetype": "text/x-python",
   "name": "python",
   "nbconvert_exporter": "python",
   "pygments_lexer": "ipython3",
   "version": "3.6.4"
  }
 },
 "nbformat": 4,
 "nbformat_minor": 2
}
